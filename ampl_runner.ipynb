{
 "cells": [
  {
   "cell_type": "code",
   "execution_count": 10,
   "id": "4fc165e3",
   "metadata": {},
   "outputs": [],
   "source": [
    "import os\n",
    "import pathlib\n",
    "import subprocess\n",
    "def call_ampl(instance_name, time_limit):\n",
    "    template: str\n",
    "    template_filename: str\n",
    "    model_filename: str\n",
    "    model_filename = \"CVRPPT14042025.mod\"\n",
    "    template_filename = \"CVRPPT_run_template\"\n",
    "\n",
    "    output_dir = pathlib.Path(\"ampl_outputs\")\n",
    "    output_dir.mkdir(parents=True, exist_ok=True)\n",
    "    \n",
    "    with open(template_filename, \"r\", encoding=\"utf-8\") as f:\n",
    "        template = f.read()\n",
    "        \n",
    "    run_script = template.replace(\"@INSTANCE@\", instance_name)\n",
    "    run_script = run_script.replace(\"@TIME_LIMIT@\", str(time_limit))\n",
    "    run_script = run_script.replace(\"@MODEL@\", model_filename)\n",
    "    run_script_filename = f\"run_{instance_name}.run\"\n",
    "    with open(run_script_filename, \"w+\", encoding=\"utf-8\") as f:\n",
    "        f.write(run_script)\n",
    "    cmd_args = [\"ampl\", run_script_filename]\n",
    "    try:\n",
    "        result = subprocess.run(cmd_args, capture_output=True, text=True, check=True)\n",
    "        print(result.stdout)\n",
    "    except subprocess.CalledProcessError as e:\n",
    "        print(\"Command failed!\")\n",
    "        print(\"Return code:\", e.returncode)\n",
    "        print(\"Output:\", e.output)\n",
    "        print(\"Error output:\", e.stderr)\n",
    "    except FileNotFoundError:\n",
    "        print(\"Command not found:\", cmd_args[0])\n",
    "    if os.path.exists(run_script_filename):\n",
    "        # os.remove(run_script_filename)\n",
    "        print(f\"File {run_script_filename} has been removed.\")"
   ]
  },
  {
   "cell_type": "code",
   "execution_count": 23,
   "id": "4f6a310b",
   "metadata": {},
   "outputs": [
    {
     "name": "stdout",
     "output_type": "stream",
     "text": [
      "Gurobi 12.0.1: optimal solution; objective 391.7\n",
      "473448 simplex iterations\n",
      "36681 branching nodes\n",
      "\n",
      "suffix bestbound OUT;\n",
      "\n",
      "File run_A-n11-k4-m3-b4ampl_.txt.run has been removed.\n"
     ]
    }
   ],
   "source": [
    "instance_name = \"A-n11-k4-m3-b4ampl_.txt\"\n",
    "call_ampl(instance_name, 600)"
   ]
  }
 ],
 "metadata": {
  "kernelspec": {
   "display_name": "vrp",
   "language": "python",
   "name": "python3"
  },
  "language_info": {
   "codemirror_mode": {
    "name": "ipython",
    "version": 3
   },
   "file_extension": ".py",
   "mimetype": "text/x-python",
   "name": "python",
   "nbconvert_exporter": "python",
   "pygments_lexer": "ipython3",
   "version": "3.10.15"
  }
 },
 "nbformat": 4,
 "nbformat_minor": 5
}
