{
 "cells": [
  {
   "cell_type": "code",
   "execution_count": 2,
   "id": "ca62932f-6865-4566-9dc5-f3afbc0cbc70",
   "metadata": {},
   "outputs": [
    {
     "data": {
      "text/plain": [
       "['A-n32-k5.sol',\n",
       " 'A-n32-k5.vrp',\n",
       " 'A-n33-k5.sol',\n",
       " 'A-n33-k5.vrp',\n",
       " 'A-n33-k6.sol',\n",
       " 'A-n33-k6.vrp',\n",
       " 'A-n34-k5.sol',\n",
       " 'A-n34-k5.vrp',\n",
       " 'A-n36-k5.sol',\n",
       " 'A-n36-k5.vrp',\n",
       " 'A-n37-k5.sol',\n",
       " 'A-n37-k5.vrp',\n",
       " 'A-n37-k6.sol',\n",
       " 'A-n37-k6.vrp',\n",
       " 'A-n38-k5.sol',\n",
       " 'A-n38-k5.vrp',\n",
       " 'A-n39-k5.sol',\n",
       " 'A-n39-k5.vrp',\n",
       " 'A-n39-k6.sol',\n",
       " 'A-n39-k6.vrp',\n",
       " 'A-n44-k6.sol',\n",
       " 'A-n44-k6.vrp',\n",
       " 'A-n45-k6.sol',\n",
       " 'A-n45-k6.vrp',\n",
       " 'A-n45-k7.sol',\n",
       " 'A-n45-k7.vrp',\n",
       " 'A-n46-k7.sol',\n",
       " 'A-n46-k7.vrp',\n",
       " 'A-n48-k7.sol',\n",
       " 'A-n48-k7.vrp',\n",
       " 'A-n53-k7.sol',\n",
       " 'A-n53-k7.vrp',\n",
       " 'A-n54-k7.sol',\n",
       " 'A-n54-k7.vrp',\n",
       " 'A-n55-k9.sol',\n",
       " 'A-n55-k9.vrp',\n",
       " 'A-n60-k9.sol',\n",
       " 'A-n60-k9.vrp',\n",
       " 'A-n61-k9.sol',\n",
       " 'A-n61-k9.vrp',\n",
       " 'A-n62-k8.sol',\n",
       " 'A-n62-k8.vrp',\n",
       " 'A-n63-k10.sol',\n",
       " 'A-n63-k10.vrp',\n",
       " 'A-n63-k9.sol',\n",
       " 'A-n63-k9.vrp',\n",
       " 'A-n64-k9.sol',\n",
       " 'A-n64-k9.vrp',\n",
       " 'A-n65-k9.sol',\n",
       " 'A-n65-k9.vrp',\n",
       " 'A-n69-k9.sol',\n",
       " 'A-n69-k9.vrp',\n",
       " 'A-n80-k10.sol',\n",
       " 'A-n80-k10.vrp']"
      ]
     },
     "execution_count": 2,
     "metadata": {},
     "output_type": "execute_result"
    }
   ],
   "source": [
    "import os\n",
    "import pathlib\n",
    "\n",
    "src_instance_dir = pathlib.Path()/\"source_instances\"/\"A\"\n",
    "os.listdir(src_instance_dir.absolute())"
   ]
  }
 ],
 "metadata": {
  "kernelspec": {
   "display_name": "Python 3 (ipykernel)",
   "language": "python",
   "name": "python3"
  },
  "language_info": {
   "codemirror_mode": {
    "name": "ipython",
    "version": 3
   },
   "file_extension": ".py",
   "mimetype": "text/x-python",
   "name": "python",
   "nbconvert_exporter": "python",
   "pygments_lexer": "ipython3",
   "version": "3.13.0"
  }
 },
 "nbformat": 4,
 "nbformat_minor": 5
}
